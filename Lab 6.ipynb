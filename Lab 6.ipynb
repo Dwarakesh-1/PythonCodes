{
 "cells": [
  {
   "cell_type": "code",
   "execution_count": 17,
   "id": "f51af308",
   "metadata": {},
   "outputs": [
    {
     "name": "stdout",
     "output_type": "stream",
     "text": [
      "The average of the first three numbers in the list is 3.0\n",
      "The average of the last two numbers in the list is 8.5\n",
      "The modified list is [2, 16, 4, 88, 525, 345, 1, 3]\n",
      "The average of the first three numbers in the new list is 7.3\n"
     ]
    }
   ],
   "source": [
    "NumList = [2, 3, 4, 88, 525, 345, 1, 16]\n",
    "\n",
    "#to find the average of the first three numbers in the list\n",
    "NumList1 = NumList[:3]                           #to get the first three numbers from the list using slicing\n",
    "average = (sum(NumList1)/len(NumList1))          #to find the average\n",
    "print(f\"The average of the first three numbers in the list is {average}\")\n",
    "\n",
    "#to find the average of the last two numbers in the list\n",
    "NumList2 = NumList[-2:]                          #to get the last two numbers from the list using slicing\n",
    "average1 = (sum(NumList2)/len(NumList2))         #to find the average\n",
    "print(f\"The average of the last two numbers in the list is {average1}\")\n",
    "\n",
    "#Swapping\n",
    "NumList[1],NumList[-1] = NumList[-1],NumList[1]  #using swapping technique to change the variables in the different positions\n",
    "print(f\"The modified list is {NumList}\")\n",
    "\n",
    "#to find the average of the first three numbers in the updated list\n",
    "NumList3 = NumList[:3]\n",
    "average2 = round((sum(NumList3)/len(NumList3)),1)\n",
    "print(f\"The average of the first three numbers in the new list is {average2}\")"
   ]
  },
  {
   "cell_type": "code",
   "execution_count": null,
   "id": "bd559c1a",
   "metadata": {},
   "outputs": [],
   "source": []
  }
 ],
 "metadata": {
  "kernelspec": {
   "display_name": "Python 3 (ipykernel)",
   "language": "python",
   "name": "python3"
  },
  "language_info": {
   "codemirror_mode": {
    "name": "ipython",
    "version": 3
   },
   "file_extension": ".py",
   "mimetype": "text/x-python",
   "name": "python",
   "nbconvert_exporter": "python",
   "pygments_lexer": "ipython3",
   "version": "3.11.5"
  }
 },
 "nbformat": 4,
 "nbformat_minor": 5
}
