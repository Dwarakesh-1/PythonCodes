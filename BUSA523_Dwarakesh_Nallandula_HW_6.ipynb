{
 "cells": [
  {
   "cell_type": "code",
   "execution_count": 12,
   "id": "01ec2470",
   "metadata": {},
   "outputs": [
    {
     "name": "stdout",
     "output_type": "stream",
     "text": [
      "The employee details are \n",
      " [{'Name': 'John Mckee', 'Age': 38, 'Department': 'Sales'}, {'Name': 'Lisa Crawford', 'Age': 29, 'Department': 'Marketing'}, {'Name': 'Sujan Patel', 'Age': 33, 'Department': 'HR'}]\n",
      "\n",
      "The details of employees are\n",
      "Name: John Mckee \t Age: 38 \t Department: Sales\n",
      "Name: Lisa Crawford \t Age: 29 \t Department: Marketing\n",
      "Name: Sujan Patel \t Age: 33 \t Department: HR\n",
      "\n",
      "The details of Sujan Patel are:\n",
      "Name: Sujan Patel \t Age: 33 \t Department: HR\n"
     ]
    }
   ],
   "source": [
    "#Defining the employee function\n",
    "def empl():\n",
    "    employees = []                  #creating an empty list to store the dictonary data\n",
    "\n",
    "    employee1 = {'Name' : 'John Mckee', 'Age' : 38, 'Department' : 'Sales'}\n",
    "    employee2 = {'Name' : 'Lisa Crawford', 'Age' : 29, 'Department' : 'Marketing'}\n",
    "    employee3 = {'Name' : 'Sujan Patel', 'Age' : 33, 'Department' : 'HR'}\n",
    "\n",
    "    employees.append(employee1)     #appending individual employee details in the list\n",
    "    employees.append(employee2)\n",
    "    employees.append(employee3)\n",
    "    \n",
    "    return employees\n",
    "\n",
    "#Defining function to print the required details\n",
    "def tocheck():\n",
    "    detail = empl()\n",
    "    print(f\"The employee details are \\n {detail}\")\n",
    "    print()\n",
    "    print(\"The details of employees are\")\n",
    "    for i in detail:                #Running the loop to check the detail in the list\n",
    "        print(f\"Name: {i['Name']} \\t Age: {i['Age']} \\t Department: {i['Department']}\")\n",
    "    print()\n",
    "    for j in detail:\n",
    "        if j['Name'] == 'Sujan Patel':\n",
    "            print(f\"The details of {j['Name']} are:\")\n",
    "            print(f\"Name: {j['Name']} \\t Age: {j['Age']} \\t Department: {j['Department']}\")\n",
    "\n",
    "def main():\n",
    "    tocheck()\n",
    "    \n",
    "main()"
   ]
  },
  {
   "cell_type": "code",
   "execution_count": null,
   "id": "58610173",
   "metadata": {},
   "outputs": [],
   "source": []
  }
 ],
 "metadata": {
  "kernelspec": {
   "display_name": "Python 3 (ipykernel)",
   "language": "python",
   "name": "python3"
  },
  "language_info": {
   "codemirror_mode": {
    "name": "ipython",
    "version": 3
   },
   "file_extension": ".py",
   "mimetype": "text/x-python",
   "name": "python",
   "nbconvert_exporter": "python",
   "pygments_lexer": "ipython3",
   "version": "3.11.5"
  }
 },
 "nbformat": 4,
 "nbformat_minor": 5
}
