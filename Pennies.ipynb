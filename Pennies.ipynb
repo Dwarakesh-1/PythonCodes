{
 "cells": [
  {
   "cell_type": "code",
   "execution_count": 2,
   "id": "f837e272",
   "metadata": {},
   "outputs": [
    {
     "name": "stdout",
     "output_type": "stream",
     "text": [
      "I have 15 dollars and 37 cents\n"
     ]
    }
   ],
   "source": [
    "# Convert pennies to dollars and cents\n",
    "\n",
    "pennies = 1537\n",
    "\n",
    "dollars = pennies // 100 # Calculates the number of dollars\n",
    "\n",
    "cents = pennies % 100 # Calculates the number of pennies\n",
    "\n",
    "print(\"I have\", dollars, \"dollars and\", cents, \"cents\")"
   ]
  },
  {
   "cell_type": "code",
   "execution_count": null,
   "id": "b74c17f0",
   "metadata": {},
   "outputs": [],
   "source": []
  }
 ],
 "metadata": {
  "kernelspec": {
   "display_name": "Python 3 (ipykernel)",
   "language": "python",
   "name": "python3"
  },
  "language_info": {
   "codemirror_mode": {
    "name": "ipython",
    "version": 3
   },
   "file_extension": ".py",
   "mimetype": "text/x-python",
   "name": "python",
   "nbconvert_exporter": "python",
   "pygments_lexer": "ipython3",
   "version": "3.11.5"
  }
 },
 "nbformat": 4,
 "nbformat_minor": 5
}
