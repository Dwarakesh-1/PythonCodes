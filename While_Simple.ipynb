{
 "cells": [
  {
   "cell_type": "code",
   "execution_count": 9,
   "id": "4e60b81f",
   "metadata": {},
   "outputs": [
    {
     "name": "stdout",
     "output_type": "stream",
     "text": [
      "Please enter a Digit or Character: w\n",
      "You have entered : w\n",
      "Enter q to end or Digit or Character to continue: e\n",
      "You have entered : e\n",
      "Enter q to end or Digit or Character to continue: r\n",
      "You have entered : r\n",
      "Enter q to end or Digit or Character to continue: 1\n",
      "You have entered : 1\n",
      "Enter q to end or Digit or Character to continue: 2\n",
      "You have entered : 2\n",
      "Enter q to end or Digit or Character to continue: 3\n",
      "You have entered : 3\n",
      "Enter q to end or Digit or Character to continue: 2.5\n",
      "You have entered : 2.5\n",
      "Enter q to end or Digit or Character to continue: 6.5\n",
      "You have entered : 6.5\n",
      "Enter q to end or Digit or Character to continue: 8.9\n",
      "You have entered : 8.9\n",
      "Enter q to end or Digit or Character to continue: esha\n",
      "You have entered : esha\n",
      "Enter q to end or Digit or Character to continue: reddy\n",
      "You have entered : reddy\n",
      "Enter q to end or Digit or Character to continue: karra\n",
      "You have entered : karra\n",
      "Enter q to end or Digit or Character to continue: q\n",
      "You have entered : q\n",
      "Thank You ! The program has ended.\n"
     ]
    }
   ],
   "source": [
    "var = input(\"Please enter a Digit or Character: \")\n",
    "\n",
    "while var != \"q\":\n",
    "    print(f\"You have entered : {var}\\n.\")\n",
    "    var = input(\"Enter q to end or Digit or Character to continue: \")\n",
    "\n",
    "print(f\"You have entered : {var}\")\n",
    "print(\"Thank You ! The program has ended.\")"
   ]
  },
  {
   "cell_type": "code",
   "execution_count": null,
   "id": "6d085453",
   "metadata": {},
   "outputs": [],
   "source": []
  }
 ],
 "metadata": {
  "kernelspec": {
   "display_name": "Python 3 (ipykernel)",
   "language": "python",
   "name": "python3"
  },
  "language_info": {
   "codemirror_mode": {
    "name": "ipython",
    "version": 3
   },
   "file_extension": ".py",
   "mimetype": "text/x-python",
   "name": "python",
   "nbconvert_exporter": "python",
   "pygments_lexer": "ipython3",
   "version": "3.11.5"
  }
 },
 "nbformat": 4,
 "nbformat_minor": 5
}
