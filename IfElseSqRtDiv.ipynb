{
 "cells": [
  {
   "cell_type": "code",
   "execution_count": 15,
   "id": "29cecf40",
   "metadata": {},
   "outputs": [
    {
     "name": "stdout",
     "output_type": "stream",
     "text": [
      "Enter first number:5\n",
      "Enter second number:4\n",
      "10.0 is Even Division\n"
     ]
    }
   ],
   "source": [
    "x = int(input(\"Enter first number:\"))\n",
    "y = int(input(\"Enter second number:\"))\n",
    "\n",
    "z = x * y\n",
    "\n",
    "if z > 50:\n",
    "    Zsq = pow(z,0.5)\n",
    "    if Zsq % 2 == 0:\n",
    "        print(f\"{Zsq} is Even Square Root\")\n",
    "    else:\n",
    "        print(f\"{Zsq} is Odd Square Root\")\n",
    "else:\n",
    "    Zdiv = z/2\n",
    "    if Zdiv % 2 == 0:\n",
    "        print(f\"{Zdiv} is Even Division\")\n",
    "    else:\n",
    "        print(f\"{Zdiv} is Odd Division\")"
   ]
  },
  {
   "cell_type": "code",
   "execution_count": null,
   "id": "99c9af8c",
   "metadata": {},
   "outputs": [],
   "source": []
  }
 ],
 "metadata": {
  "kernelspec": {
   "display_name": "Python 3 (ipykernel)",
   "language": "python",
   "name": "python3"
  },
  "language_info": {
   "codemirror_mode": {
    "name": "ipython",
    "version": 3
   },
   "file_extension": ".py",
   "mimetype": "text/x-python",
   "name": "python",
   "nbconvert_exporter": "python",
   "pygments_lexer": "ipython3",
   "version": "3.11.5"
  }
 },
 "nbformat": 4,
 "nbformat_minor": 5
}
