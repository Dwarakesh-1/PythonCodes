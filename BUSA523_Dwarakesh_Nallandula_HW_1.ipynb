{
 "cells": [
  {
   "cell_type": "code",
   "execution_count": 1,
   "id": "9183654f",
   "metadata": {},
   "outputs": [
    {
     "name": "stdout",
     "output_type": "stream",
     "text": [
      "Enter your weight in KG:100\n",
      "Enter you height in ft in:6.2\n",
      "Your BMI is 28.0 and you are overweight\n"
     ]
    }
   ],
   "source": [
    "#Calculte the BMI of the person based on the weight and height\n",
    "\n",
    "weight = int(input(\"Enter your weight in KG:\"))\n",
    "height = float(input(\"Enter you height in ft in:\"))\n",
    "\n",
    "#Converting height from ft in to m\n",
    "\n",
    "height_m = round(height/3.281,2)\n",
    "\n",
    "#Calculate the BMI\n",
    "bmi = round(weight/pow(height_m,2),1)\n",
    "\n",
    "if bmi < 18.5:\n",
    "    print(f\"Your BMI is {bmi} and you are underweight\")\n",
    "elif bmi <= 24.9:\n",
    "    print(f\"Your BMI is {bmi} and you are normalweight\")\n",
    "elif bmi <= 29.9:\n",
    "    print(f\"Your BMI is {bmi} and you are overweight\")\n",
    "else:\n",
    "    print(f\"Your BMI is {bmi} and you are obesity\")"
   ]
  },
  {
   "cell_type": "code",
   "execution_count": null,
   "id": "c1c52a08",
   "metadata": {},
   "outputs": [],
   "source": []
  }
 ],
 "metadata": {
  "kernelspec": {
   "display_name": "Python 3 (ipykernel)",
   "language": "python",
   "name": "python3"
  },
  "language_info": {
   "codemirror_mode": {
    "name": "ipython",
    "version": 3
   },
   "file_extension": ".py",
   "mimetype": "text/x-python",
   "name": "python",
   "nbconvert_exporter": "python",
   "pygments_lexer": "ipython3",
   "version": "3.11.5"
  }
 },
 "nbformat": 4,
 "nbformat_minor": 5
}
