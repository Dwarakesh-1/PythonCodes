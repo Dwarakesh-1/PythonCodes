{
 "cells": [
  {
   "cell_type": "code",
   "execution_count": 7,
   "id": "fdc8f5da",
   "metadata": {},
   "outputs": [
    {
     "name": "stdout",
     "output_type": "stream",
     "text": [
      "Enter your answers : adbdcbdacca\n",
      "You missed 6 questions : adbdcXXXXXX\n",
      "Your score is 45.5 percent\n"
     ]
    }
   ],
   "source": [
    "#Evaluating user answer sheet\n",
    "\n",
    "CORRECT_ANSWERS = \"adbdcacbdac\"     #Answer Key to compare\n",
    "user_answers = input(\"Enter your answers : \") #User input answer key\n",
    "\n",
    "#To find the percentage of the user\n",
    "final = len(CORRECT_ANSWERS)\n",
    "total = 0                    #To find how many answers are correct\n",
    "wrong = 0                    #To find how many answers are wrong\n",
    "\n",
    "output = \"\"                       #To concatenate the correct and wrong answers in the variable\n",
    "\n",
    "for i in range(final):\n",
    "    if user_answers[i] == CORRECT_ANSWERS[i]:\n",
    "        total += 1\n",
    "        output += CORRECT_ANSWERS[i]\n",
    "    else:\n",
    "        wrong += 1\n",
    "        output += \"X\"\n",
    "\n",
    "print(f\"You missed {wrong} questions : {output}\")\n",
    "percentage = round((total/final)*100, 1) #calculating the percentage based on the user input answers\n",
    "print(f\"Your score is {percentage} percent\")"
   ]
  },
  {
   "cell_type": "code",
   "execution_count": null,
   "id": "1c9684d0",
   "metadata": {},
   "outputs": [],
   "source": []
  }
 ],
 "metadata": {
  "kernelspec": {
   "display_name": "Python 3 (ipykernel)",
   "language": "python",
   "name": "python3"
  },
  "language_info": {
   "codemirror_mode": {
    "name": "ipython",
    "version": 3
   },
   "file_extension": ".py",
   "mimetype": "text/x-python",
   "name": "python",
   "nbconvert_exporter": "python",
   "pygments_lexer": "ipython3",
   "version": "3.11.5"
  }
 },
 "nbformat": 4,
 "nbformat_minor": 5
}
