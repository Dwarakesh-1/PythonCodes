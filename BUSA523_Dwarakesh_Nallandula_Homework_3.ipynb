{
 "cells": [
  {
   "cell_type": "code",
   "execution_count": 15,
   "id": "51658812",
   "metadata": {},
   "outputs": [
    {
     "name": "stdout",
     "output_type": "stream",
     "text": [
      "Enter your first number: 22\n",
      "Enter your second number: 24\n",
      "Inside the Function, the Larger Number is : 24\n",
      "The Remainder of 24/22 is 2\n",
      "Outside the Function, the Smaller Number is : 22\n"
     ]
    }
   ],
   "source": [
    "#Defining FianlRemainder function to find the remainder of the larger_num/smaller_num\n",
    "\n",
    "def FinalRemainder(large_num,small_num):\n",
    "    remainder = large_num % small_num  #getting remainder by using \"%\"\n",
    "    print(f\"The Remainder of {large_num}/{small_num} is {remainder}\")\n",
    "\n",
    "#Defining FindLarger function to find the larger number inside it\n",
    "\n",
    "def FindLarger(arg1,arg2):\n",
    "    if arg1 > arg2:\n",
    "        print(f\"Inside the Function, the Larger Number is : {arg1}\")\n",
    "        FinalRemainder(arg1,arg2)      #Calling the FinalRemainder function\n",
    "        return arg2                    #Returns the smaller number\n",
    "    elif arg1 == arg2:\n",
    "        FinalRemainder(arg1,arg2)\n",
    "        return None                    #if the numbers are same we are returning a none value\n",
    "    else:\n",
    "        print(f\"Inside the Function, the Larger Number is : {arg2}\")\n",
    "        FinalRemainder(arg2,arg1)\n",
    "        return arg1\n",
    "\n",
    "#Defining main function for user input and for executing the defined functions above\n",
    "\n",
    "def main():\n",
    "    arg1 = int(input(\"Enter your first number: \"))\n",
    "    arg2 = int(input(\"Enter your second number: \"))\n",
    "    x = FindLarger(arg1,arg2)          #calling the FindLarger function\n",
    "    if x != None:\n",
    "        print(f\"Outside the Function, the Smaller Number is : {x}\")\n",
    "    else:\n",
    "        print(\"The entered numbers are same!!\")\n",
    "\n",
    "main()                                 #calling the main function for execution of the entire program"
   ]
  },
  {
   "cell_type": "code",
   "execution_count": null,
   "id": "11f48aa7",
   "metadata": {},
   "outputs": [],
   "source": []
  }
 ],
 "metadata": {
  "kernelspec": {
   "display_name": "Python 3 (ipykernel)",
   "language": "python",
   "name": "python3"
  },
  "language_info": {
   "codemirror_mode": {
    "name": "ipython",
    "version": 3
   },
   "file_extension": ".py",
   "mimetype": "text/x-python",
   "name": "python",
   "nbconvert_exporter": "python",
   "pygments_lexer": "ipython3",
   "version": "3.11.5"
  }
 },
 "nbformat": 4,
 "nbformat_minor": 5
}
