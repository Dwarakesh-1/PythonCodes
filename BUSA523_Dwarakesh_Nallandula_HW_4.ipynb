{
 "cells": [
  {
   "cell_type": "code",
   "execution_count": 3,
   "id": "6f993f1d",
   "metadata": {},
   "outputs": [
    {
     "name": "stdout",
     "output_type": "stream",
     "text": [
      "Enter number of Lists (x): 3\n",
      "Enter number of List Elements (y): 4\n",
      "The resulting List is [[0, 0, 0, 0], [0, 0, 0, 0], [0, 0, 0, 0]]\n"
     ]
    }
   ],
   "source": [
    "#Taking user input for the number of lists and elements\n",
    "x = int(input(\"Enter number of Lists (x): \"))\n",
    "y = int(input(\"Enter number of List Elements (y): \"))\n",
    "\n",
    "list1 = [0]                       #declaring the zero[0] list\n",
    "list2 = []                        #declaring an empty list for the output\n",
    "\n",
    "if x > 5 or x < 1:                #the number of lists shouldn't be less than 1 or greater than 5\n",
    "    print(\"Error: Not allowed to create list(s) in this case\")\n",
    "elif y>5 or y < 1:                #the number of elements shouldn't be less than 1 or greater than 5\n",
    "    print(\"Error: Not allowed to create element(s) in this case\")\n",
    "else:\n",
    "    list1 = list1 * y             #to increase the elements in the list1\n",
    "    list2.append(list1)           #appending the list1 into the list2 for the desired output\n",
    "    list2 = list2 * x             #to increase the lists in the list2\n",
    "    \n",
    "print(f\"The resulting List is {list2}\")"
   ]
  },
  {
   "cell_type": "code",
   "execution_count": 2,
   "id": "650edfd6",
   "metadata": {},
   "outputs": [
    {
     "name": "stdout",
     "output_type": "stream",
     "text": [
      "Enter number of Lists (x): 5\n",
      "Enter number of List Elements (y): 4\n",
      "The resulting List is [[0, 0, 0, 0], [0, 0, 0, 0], [0, 0, 0, 0], [0, 0, 0, 0], [0, 0, 0, 0]]\n"
     ]
    }
   ],
   "source": [
    "#Defining ListCreation function\n",
    "def ListCreation(x,y):\n",
    "    list1 = [0]             #declaring the zero list since the required list is zero list i.e, [0]\n",
    "    list2 = []              #declaring the empty list to store the final output\n",
    "    if x < 1 or x > 5:      #the number of lists entered by the user shouldn't be less than 1 or greater than 5\n",
    "        print(\"Error: Not allowed to create list(s) in this case\")\n",
    "        return list2\n",
    "    elif y < 1 or y >5:     #the number of elements entered by the user in the list shouldn't be less than 1 or greater than 5\n",
    "        print(\"Error: Not allowed to create element(s) in this case\")\n",
    "        return list2\n",
    "    else:                   #if the user entered numbers in the exact range\n",
    "        list1 = list1 * y   #using * operand to increase the number of elements inside the list1\n",
    "        list2.append(list1) #using append function to insert the list1 into the list2\n",
    "        list2 = list2 * x   #using * operand to increase the number of lists/elements inside the list2\n",
    "        return list2\n",
    "\n",
    "#Defining main function for user input\n",
    "def main():\n",
    "    x = int(input(\"Enter number of Lists (x): \"))\n",
    "    y = int(input(\"Enter number of List Elements (y): \"))\n",
    "    result = ListCreation(x,y) #calling the ListCreation function and storing the return value in the result variable\n",
    "    print(f\"The resulting List is {result}\")\n",
    "\n",
    "main()                       #calling the main function"
   ]
  },
  {
   "cell_type": "code",
   "execution_count": null,
   "id": "48902a53",
   "metadata": {},
   "outputs": [],
   "source": []
  }
 ],
 "metadata": {
  "kernelspec": {
   "display_name": "Python 3 (ipykernel)",
   "language": "python",
   "name": "python3"
  },
  "language_info": {
   "codemirror_mode": {
    "name": "ipython",
    "version": 3
   },
   "file_extension": ".py",
   "mimetype": "text/x-python",
   "name": "python",
   "nbconvert_exporter": "python",
   "pygments_lexer": "ipython3",
   "version": "3.11.5"
  }
 },
 "nbformat": 4,
 "nbformat_minor": 5
}
