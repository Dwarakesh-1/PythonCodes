{
 "cells": [
  {
   "cell_type": "code",
   "execution_count": 1,
   "id": "2fab45e8",
   "metadata": {},
   "outputs": [
    {
     "name": "stdout",
     "output_type": "stream",
     "text": [
      "Enter the first number : 10\n",
      "Enter the second number : 12\n",
      "Inside the Function, the Larger Number is : 12\n",
      "Outside the Function, the Smaller number is : 10\n"
     ]
    }
   ],
   "source": [
    "def FindLarger(arg1,arg2):\n",
    "    if arg1 > arg2:\n",
    "        print(f\"Inside the Function, the Larger Number is : {arg1}\")\n",
    "        return arg2\n",
    "    elif arg1 == arg2:\n",
    "        return 0\n",
    "    else:\n",
    "        print(f\"Inside the Function, the Larger Number is : {arg2}\")\n",
    "        return arg1\n",
    "\n",
    "def main():\n",
    "    arg1 = int(input(\"Enter the first number : \"))\n",
    "    arg2 = int(input(\"Enter the second number : \"))\n",
    "    b = FindLarger(arg1,arg2)\n",
    "    if b == 0:\n",
    "        print(\"The numbers are same!\")\n",
    "    else:\n",
    "        print(f\"Outside the Function, the Smaller number is : {b}\")\n",
    "\n",
    "main()"
   ]
  },
  {
   "cell_type": "code",
   "execution_count": null,
   "id": "7386c748",
   "metadata": {},
   "outputs": [],
   "source": []
  }
 ],
 "metadata": {
  "kernelspec": {
   "display_name": "Python 3 (ipykernel)",
   "language": "python",
   "name": "python3"
  },
  "language_info": {
   "codemirror_mode": {
    "name": "ipython",
    "version": 3
   },
   "file_extension": ".py",
   "mimetype": "text/x-python",
   "name": "python",
   "nbconvert_exporter": "python",
   "pygments_lexer": "ipython3",
   "version": "3.11.5"
  }
 },
 "nbformat": 4,
 "nbformat_minor": 5
}
