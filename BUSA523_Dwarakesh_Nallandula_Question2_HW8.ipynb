{
 "cells": [
  {
   "cell_type": "markdown",
   "id": "19ad9071",
   "metadata": {},
   "source": [
    "### Question 2"
   ]
  },
  {
   "cell_type": "markdown",
   "id": "9bb3a790",
   "metadata": {},
   "source": [
    "#Reading the data from the csv file"
   ]
  },
  {
   "cell_type": "code",
   "execution_count": 20,
   "id": "11ae2e3b",
   "metadata": {},
   "outputs": [
    {
     "name": "stdout",
     "output_type": "stream",
     "text": [
      "Enter the file name without extension: ORNG1\n"
     ]
    },
    {
     "data": {
      "text/html": [
       "<div>\n",
       "<style scoped>\n",
       "    .dataframe tbody tr th:only-of-type {\n",
       "        vertical-align: middle;\n",
       "    }\n",
       "\n",
       "    .dataframe tbody tr th {\n",
       "        vertical-align: top;\n",
       "    }\n",
       "\n",
       "    .dataframe thead th {\n",
       "        text-align: right;\n",
       "    }\n",
       "</style>\n",
       "<table border=\"1\" class=\"dataframe\">\n",
       "  <thead>\n",
       "    <tr style=\"text-align: right;\">\n",
       "      <th></th>\n",
       "      <th>Open</th>\n",
       "      <th>High</th>\n",
       "      <th>Low</th>\n",
       "      <th>Close</th>\n",
       "      <th>AdjustedClose</th>\n",
       "      <th>Volume</th>\n",
       "    </tr>\n",
       "    <tr>\n",
       "      <th>Date</th>\n",
       "      <th></th>\n",
       "      <th></th>\n",
       "      <th></th>\n",
       "      <th></th>\n",
       "      <th></th>\n",
       "      <th></th>\n",
       "    </tr>\n",
       "  </thead>\n",
       "  <tbody>\n",
       "    <tr>\n",
       "      <th>2017-01-03</th>\n",
       "      <td>57.900</td>\n",
       "      <td>58.165</td>\n",
       "      <td>57.380</td>\n",
       "      <td>58.075</td>\n",
       "      <td>54.595</td>\n",
       "      <td>230255200</td>\n",
       "    </tr>\n",
       "    <tr>\n",
       "      <th>2017-01-04</th>\n",
       "      <td>57.925</td>\n",
       "      <td>58.255</td>\n",
       "      <td>57.875</td>\n",
       "      <td>58.010</td>\n",
       "      <td>54.534</td>\n",
       "      <td>168944800</td>\n",
       "    </tr>\n",
       "    <tr>\n",
       "      <th>2017-01-05</th>\n",
       "      <td>57.960</td>\n",
       "      <td>58.430</td>\n",
       "      <td>57.905</td>\n",
       "      <td>58.305</td>\n",
       "      <td>54.812</td>\n",
       "      <td>177548800</td>\n",
       "    </tr>\n",
       "    <tr>\n",
       "      <th>2017-01-06</th>\n",
       "      <td>58.390</td>\n",
       "      <td>59.080</td>\n",
       "      <td>58.235</td>\n",
       "      <td>58.955</td>\n",
       "      <td>55.423</td>\n",
       "      <td>254015200</td>\n",
       "    </tr>\n",
       "    <tr>\n",
       "      <th>2017-01-09</th>\n",
       "      <td>58.975</td>\n",
       "      <td>59.715</td>\n",
       "      <td>58.970</td>\n",
       "      <td>59.495</td>\n",
       "      <td>55.930</td>\n",
       "      <td>268495200</td>\n",
       "    </tr>\n",
       "    <tr>\n",
       "      <th>...</th>\n",
       "      <td>...</td>\n",
       "      <td>...</td>\n",
       "      <td>...</td>\n",
       "      <td>...</td>\n",
       "      <td>...</td>\n",
       "      <td>...</td>\n",
       "    </tr>\n",
       "    <tr>\n",
       "      <th>2021-12-23</th>\n",
       "      <td>351.700</td>\n",
       "      <td>353.700</td>\n",
       "      <td>350.540</td>\n",
       "      <td>352.560</td>\n",
       "      <td>352.111</td>\n",
       "      <td>136713200</td>\n",
       "    </tr>\n",
       "    <tr>\n",
       "      <th>2021-12-27</th>\n",
       "      <td>354.180</td>\n",
       "      <td>360.840</td>\n",
       "      <td>354.140</td>\n",
       "      <td>360.660</td>\n",
       "      <td>360.201</td>\n",
       "      <td>149839200</td>\n",
       "    </tr>\n",
       "    <tr>\n",
       "      <th>2021-12-28</th>\n",
       "      <td>360.320</td>\n",
       "      <td>362.660</td>\n",
       "      <td>357.060</td>\n",
       "      <td>358.580</td>\n",
       "      <td>358.124</td>\n",
       "      <td>158288600</td>\n",
       "    </tr>\n",
       "    <tr>\n",
       "      <th>2021-12-29</th>\n",
       "      <td>358.660</td>\n",
       "      <td>361.260</td>\n",
       "      <td>356.280</td>\n",
       "      <td>358.760</td>\n",
       "      <td>358.303</td>\n",
       "      <td>124697800</td>\n",
       "    </tr>\n",
       "    <tr>\n",
       "      <th>2021-12-30</th>\n",
       "      <td>358.940</td>\n",
       "      <td>361.140</td>\n",
       "      <td>356.180</td>\n",
       "      <td>356.400</td>\n",
       "      <td>355.947</td>\n",
       "      <td>119546000</td>\n",
       "    </tr>\n",
       "  </tbody>\n",
       "</table>\n",
       "<p>1258 rows × 6 columns</p>\n",
       "</div>"
      ],
      "text/plain": [
       "               Open     High      Low    Close  AdjustedClose     Volume\n",
       "Date                                                                    \n",
       "2017-01-03   57.900   58.165   57.380   58.075         54.595  230255200\n",
       "2017-01-04   57.925   58.255   57.875   58.010         54.534  168944800\n",
       "2017-01-05   57.960   58.430   57.905   58.305         54.812  177548800\n",
       "2017-01-06   58.390   59.080   58.235   58.955         55.423  254015200\n",
       "2017-01-09   58.975   59.715   58.970   59.495         55.930  268495200\n",
       "...             ...      ...      ...      ...            ...        ...\n",
       "2021-12-23  351.700  353.700  350.540  352.560        352.111  136713200\n",
       "2021-12-27  354.180  360.840  354.140  360.660        360.201  149839200\n",
       "2021-12-28  360.320  362.660  357.060  358.580        358.124  158288600\n",
       "2021-12-29  358.660  361.260  356.280  358.760        358.303  124697800\n",
       "2021-12-30  358.940  361.140  356.180  356.400        355.947  119546000\n",
       "\n",
       "[1258 rows x 6 columns]"
      ]
     },
     "execution_count": 20,
     "metadata": {},
     "output_type": "execute_result"
    }
   ],
   "source": [
    "import pandas as pd\n",
    "\n",
    "file = input(\"Enter the file name without extension: \")\n",
    "filename = file + '.csv'\n",
    "data = pd.read_csv(filename, index_col = 'Date', parse_dates = True)\n",
    "\n",
    "data"
   ]
  },
  {
   "cell_type": "markdown",
   "id": "700db003",
   "metadata": {},
   "source": [
    "#Read these data into a DataFrame and augment the data with the daily returns of adjusted closing price"
   ]
  },
  {
   "cell_type": "code",
   "execution_count": 21,
   "id": "177a30da",
   "metadata": {},
   "outputs": [
    {
     "name": "stderr",
     "output_type": "stream",
     "text": [
      "C:\\Users\\dwara\\AppData\\Local\\Temp\\ipykernel_17172\\1592201329.py:2: SettingWithCopyWarning: \n",
      "A value is trying to be set on a copy of a slice from a DataFrame.\n",
      "Try using .loc[row_indexer,col_indexer] = value instead\n",
      "\n",
      "See the caveats in the documentation: https://pandas.pydata.org/pandas-docs/stable/user_guide/indexing.html#returning-a-view-versus-a-copy\n",
      "  data1['DailyReturns'] = data1['AdjustedClose'].pct_change()\n"
     ]
    },
    {
     "data": {
      "text/html": [
       "<div>\n",
       "<style scoped>\n",
       "    .dataframe tbody tr th:only-of-type {\n",
       "        vertical-align: middle;\n",
       "    }\n",
       "\n",
       "    .dataframe tbody tr th {\n",
       "        vertical-align: top;\n",
       "    }\n",
       "\n",
       "    .dataframe thead th {\n",
       "        text-align: right;\n",
       "    }\n",
       "</style>\n",
       "<table border=\"1\" class=\"dataframe\">\n",
       "  <thead>\n",
       "    <tr style=\"text-align: right;\">\n",
       "      <th></th>\n",
       "      <th>AdjustedClose</th>\n",
       "      <th>DailyReturns</th>\n",
       "    </tr>\n",
       "    <tr>\n",
       "      <th>Date</th>\n",
       "      <th></th>\n",
       "      <th></th>\n",
       "    </tr>\n",
       "  </thead>\n",
       "  <tbody>\n",
       "    <tr>\n",
       "      <th>2017-01-03</th>\n",
       "      <td>54.595</td>\n",
       "      <td>NaN</td>\n",
       "    </tr>\n",
       "    <tr>\n",
       "      <th>2017-01-04</th>\n",
       "      <td>54.534</td>\n",
       "      <td>-0.001117</td>\n",
       "    </tr>\n",
       "    <tr>\n",
       "      <th>2017-01-05</th>\n",
       "      <td>54.812</td>\n",
       "      <td>0.005098</td>\n",
       "    </tr>\n",
       "    <tr>\n",
       "      <th>2017-01-06</th>\n",
       "      <td>55.423</td>\n",
       "      <td>0.011147</td>\n",
       "    </tr>\n",
       "    <tr>\n",
       "      <th>2017-01-09</th>\n",
       "      <td>55.930</td>\n",
       "      <td>0.009148</td>\n",
       "    </tr>\n",
       "    <tr>\n",
       "      <th>...</th>\n",
       "      <td>...</td>\n",
       "      <td>...</td>\n",
       "    </tr>\n",
       "    <tr>\n",
       "      <th>2021-12-23</th>\n",
       "      <td>352.111</td>\n",
       "      <td>0.003643</td>\n",
       "    </tr>\n",
       "    <tr>\n",
       "      <th>2021-12-27</th>\n",
       "      <td>360.201</td>\n",
       "      <td>0.022976</td>\n",
       "    </tr>\n",
       "    <tr>\n",
       "      <th>2021-12-28</th>\n",
       "      <td>358.124</td>\n",
       "      <td>-0.005766</td>\n",
       "    </tr>\n",
       "    <tr>\n",
       "      <th>2021-12-29</th>\n",
       "      <td>358.303</td>\n",
       "      <td>0.000500</td>\n",
       "    </tr>\n",
       "    <tr>\n",
       "      <th>2021-12-30</th>\n",
       "      <td>355.947</td>\n",
       "      <td>-0.006575</td>\n",
       "    </tr>\n",
       "  </tbody>\n",
       "</table>\n",
       "<p>1258 rows × 2 columns</p>\n",
       "</div>"
      ],
      "text/plain": [
       "            AdjustedClose  DailyReturns\n",
       "Date                                   \n",
       "2017-01-03         54.595           NaN\n",
       "2017-01-04         54.534     -0.001117\n",
       "2017-01-05         54.812      0.005098\n",
       "2017-01-06         55.423      0.011147\n",
       "2017-01-09         55.930      0.009148\n",
       "...                   ...           ...\n",
       "2021-12-23        352.111      0.003643\n",
       "2021-12-27        360.201      0.022976\n",
       "2021-12-28        358.124     -0.005766\n",
       "2021-12-29        358.303      0.000500\n",
       "2021-12-30        355.947     -0.006575\n",
       "\n",
       "[1258 rows x 2 columns]"
      ]
     },
     "execution_count": 21,
     "metadata": {},
     "output_type": "execute_result"
    }
   ],
   "source": [
    "data1 = data[['AdjustedClose']]\n",
    "data1['DailyReturns'] = data1['AdjustedClose'].pct_change()\n",
    "data1"
   ]
  },
  {
   "cell_type": "markdown",
   "id": "0fd09ab9",
   "metadata": {},
   "source": [
    "#Plot a histogram of the daily returns"
   ]
  },
  {
   "cell_type": "code",
   "execution_count": 22,
   "id": "c40f4eef",
   "metadata": {},
   "outputs": [
    {
     "data": {
      "text/plain": [
       "<Axes: ylabel='Frequency'>"
      ]
     },
     "execution_count": 22,
     "metadata": {},
     "output_type": "execute_result"
    },
    {
     "data": {
      "image/png": "[encoded data removed]",
      "text/plain": [
       "<Figure size 640x480 with 1 Axes>"
      ]
     },
     "metadata": {},
     "output_type": "display_data"
    }
   ],
   "source": [
    "data1['DailyReturns'].plot(kind = 'hist', bins = 75)"
   ]
  },
  {
   "cell_type": "markdown",
   "id": "41843d5f",
   "metadata": {},
   "source": [
    "#Calculate the skewness and kurtosis of the ORNG daily returns"
   ]
  },
  {
   "cell_type": "code",
   "execution_count": 23,
   "id": "4f0847ee",
   "metadata": {},
   "outputs": [
    {
     "name": "stdout",
     "output_type": "stream",
     "text": [
      "Skewness : -0.1\n",
      "Kurtosis : 6.65\n"
     ]
    }
   ],
   "source": [
    "print(f\"Skewness : {round(data1.DailyReturns.skew(),2)}\")\n",
    "print(f\"Kurtosis : {round(data1.DailyReturns.kurt(),2)}\")"
   ]
  },
  {
   "cell_type": "code",
   "execution_count": 25,
   "id": "c7216c6f",
   "metadata": {},
   "outputs": [
    {
     "data": {
      "text/html": [
       "<div>\n",
       "<style scoped>\n",
       "    .dataframe tbody tr th:only-of-type {\n",
       "        vertical-align: middle;\n",
       "    }\n",
       "\n",
       "    .dataframe tbody tr th {\n",
       "        vertical-align: top;\n",
       "    }\n",
       "\n",
       "    .dataframe thead th {\n",
       "        text-align: right;\n",
       "    }\n",
       "</style>\n",
       "<table border=\"1\" class=\"dataframe\">\n",
       "  <thead>\n",
       "    <tr style=\"text-align: right;\">\n",
       "      <th></th>\n",
       "      <th>AdjustedClose</th>\n",
       "      <th>DailyReturns</th>\n",
       "    </tr>\n",
       "    <tr>\n",
       "      <th>Date</th>\n",
       "      <th></th>\n",
       "      <th></th>\n",
       "    </tr>\n",
       "  </thead>\n",
       "  <tbody>\n",
       "    <tr>\n",
       "      <th>2017-01-05</th>\n",
       "      <td>54.812</td>\n",
       "      <td>0.005098</td>\n",
       "    </tr>\n",
       "    <tr>\n",
       "      <th>2017-01-06</th>\n",
       "      <td>55.423</td>\n",
       "      <td>0.011147</td>\n",
       "    </tr>\n",
       "    <tr>\n",
       "      <th>2017-01-09</th>\n",
       "      <td>55.930</td>\n",
       "      <td>0.009148</td>\n",
       "    </tr>\n",
       "    <tr>\n",
       "      <th>2017-01-10</th>\n",
       "      <td>55.987</td>\n",
       "      <td>0.001019</td>\n",
       "    </tr>\n",
       "    <tr>\n",
       "      <th>2017-01-11</th>\n",
       "      <td>56.288</td>\n",
       "      <td>0.005376</td>\n",
       "    </tr>\n",
       "    <tr>\n",
       "      <th>...</th>\n",
       "      <td>...</td>\n",
       "      <td>...</td>\n",
       "    </tr>\n",
       "    <tr>\n",
       "      <th>2021-12-23</th>\n",
       "      <td>352.111</td>\n",
       "      <td>0.003643</td>\n",
       "    </tr>\n",
       "    <tr>\n",
       "      <th>2021-12-27</th>\n",
       "      <td>360.201</td>\n",
       "      <td>0.022976</td>\n",
       "    </tr>\n",
       "    <tr>\n",
       "      <th>2021-12-28</th>\n",
       "      <td>358.124</td>\n",
       "      <td>-0.005766</td>\n",
       "    </tr>\n",
       "    <tr>\n",
       "      <th>2021-12-29</th>\n",
       "      <td>358.303</td>\n",
       "      <td>0.000500</td>\n",
       "    </tr>\n",
       "    <tr>\n",
       "      <th>2021-12-30</th>\n",
       "      <td>355.947</td>\n",
       "      <td>-0.006575</td>\n",
       "    </tr>\n",
       "  </tbody>\n",
       "</table>\n",
       "<p>1256 rows × 2 columns</p>\n",
       "</div>"
      ],
      "text/plain": [
       "            AdjustedClose  DailyReturns\n",
       "Date                                   \n",
       "2017-01-05         54.812      0.005098\n",
       "2017-01-06         55.423      0.011147\n",
       "2017-01-09         55.930      0.009148\n",
       "2017-01-10         55.987      0.001019\n",
       "2017-01-11         56.288      0.005376\n",
       "...                   ...           ...\n",
       "2021-12-23        352.111      0.003643\n",
       "2021-12-27        360.201      0.022976\n",
       "2021-12-28        358.124     -0.005766\n",
       "2021-12-29        358.303      0.000500\n",
       "2021-12-30        355.947     -0.006575\n",
       "\n",
       "[1256 rows x 2 columns]"
      ]
     },
     "execution_count": 25,
     "metadata": {},
     "output_type": "execute_result"
    }
   ],
   "source": [
    "data1 = data1[1:]\n",
    "data1"
   ]
  },
  {
   "cell_type": "code",
   "execution_count": 11,
   "id": "9166d9fe",
   "metadata": {},
   "outputs": [],
   "source": [
    "from scipy.stats import linregress\n",
    "\n",
    "beta, alpha, rvalue, pvalue, stderr = linregress(data1.AdjustedClose, data1.DailyReturns)\n"
   ]
  },
  {
   "cell_type": "code",
   "execution_count": 19,
   "id": "ccac1075",
   "metadata": {},
   "outputs": [
    {
     "name": "stdout",
     "output_type": "stream",
     "text": [
      "Beta : 0.0\n",
      "Alpha : 0.0006\n",
      "R-squared : 0.1%\n",
      "p-value : 0.2622\n",
      "standard error : 0.0\n"
     ]
    }
   ],
   "source": [
    "print(f\"Beta : {round(beta,4)}\")\n",
    "print(f\"Alpha : {round(alpha,4)}\")\n",
    "print(f\"R-squared : {round(pow(rvalue,2) * 100,2)}%\")\n",
    "print(f\"p-value : {round(pvalue,4)}\")\n",
    "print(f\"standard error : {round(stderr,4)}\")"
   ]
  },
  {
   "cell_type": "code",
   "execution_count": 17,
   "id": "8cf3856d",
   "metadata": {},
   "outputs": [
    {
     "name": "stdout",
     "output_type": "stream",
     "text": [
      "The daily returns doesn't follow normal distribution\n"
     ]
    }
   ],
   "source": [
    "if pvalue > alpha:\n",
    "    print(\"The daily returns doesn't follow normal distribution\")\n",
    "else:\n",
    "    print(\"The daily returns follow normal distribution with 95% confidence\")"
   ]
  },
  {
   "cell_type": "markdown",
   "id": "2477b4ac",
   "metadata": {},
   "source": [
    "#Based on the standard deviation of the daily returns, identify those dates and returns that were smaller than -3 standard deviations or larger than +3 standard deviations"
   ]
  },
  {
   "cell_type": "code",
   "execution_count": 14,
   "id": "c7782990",
   "metadata": {},
   "outputs": [
    {
     "data": {
      "text/plain": [
       "0.019"
      ]
     },
     "execution_count": 14,
     "metadata": {},
     "output_type": "execute_result"
    }
   ],
   "source": [
    "data1_sd = data1.DailyReturns.std()\n",
    "round(data1_sd,3)"
   ]
  },
  {
   "cell_type": "code",
   "execution_count": 15,
   "id": "03edd004",
   "metadata": {},
   "outputs": [
    {
     "data": {
      "text/html": [
       "<div>\n",
       "<style scoped>\n",
       "    .dataframe tbody tr th:only-of-type {\n",
       "        vertical-align: middle;\n",
       "    }\n",
       "\n",
       "    .dataframe tbody tr th {\n",
       "        vertical-align: top;\n",
       "    }\n",
       "\n",
       "    .dataframe thead th {\n",
       "        text-align: right;\n",
       "    }\n",
       "</style>\n",
       "<table border=\"1\" class=\"dataframe\">\n",
       "  <thead>\n",
       "    <tr style=\"text-align: right;\">\n",
       "      <th></th>\n",
       "      <th>AdjustedClose</th>\n",
       "      <th>DailyReturns</th>\n",
       "    </tr>\n",
       "    <tr>\n",
       "      <th>Date</th>\n",
       "      <th></th>\n",
       "      <th></th>\n",
       "    </tr>\n",
       "  </thead>\n",
       "  <tbody>\n",
       "    <tr>\n",
       "      <th>2017-02-01</th>\n",
       "      <td>60.518</td>\n",
       "      <td>0.060975</td>\n",
       "    </tr>\n",
       "    <tr>\n",
       "      <th>2018-08-01</th>\n",
       "      <td>97.002</td>\n",
       "      <td>0.058916</td>\n",
       "    </tr>\n",
       "    <tr>\n",
       "      <th>2018-12-26</th>\n",
       "      <td>76.191</td>\n",
       "      <td>0.070414</td>\n",
       "    </tr>\n",
       "    <tr>\n",
       "      <th>2019-01-30</th>\n",
       "      <td>80.108</td>\n",
       "      <td>0.068335</td>\n",
       "    </tr>\n",
       "    <tr>\n",
       "      <th>2020-03-02</th>\n",
       "      <td>147.380</td>\n",
       "      <td>0.093104</td>\n",
       "    </tr>\n",
       "    <tr>\n",
       "      <th>2020-03-10</th>\n",
       "      <td>140.736</td>\n",
       "      <td>0.072021</td>\n",
       "    </tr>\n",
       "    <tr>\n",
       "      <th>2020-03-13</th>\n",
       "      <td>137.101</td>\n",
       "      <td>0.119804</td>\n",
       "    </tr>\n",
       "    <tr>\n",
       "      <th>2020-03-24</th>\n",
       "      <td>121.767</td>\n",
       "      <td>0.100331</td>\n",
       "    </tr>\n",
       "    <tr>\n",
       "      <th>2020-04-06</th>\n",
       "      <td>129.456</td>\n",
       "      <td>0.087235</td>\n",
       "    </tr>\n",
       "    <tr>\n",
       "      <th>2020-07-31</th>\n",
       "      <td>210.207</td>\n",
       "      <td>0.104690</td>\n",
       "    </tr>\n",
       "    <tr>\n",
       "      <th>2020-10-12</th>\n",
       "      <td>246.536</td>\n",
       "      <td>0.063522</td>\n",
       "    </tr>\n",
       "  </tbody>\n",
       "</table>\n",
       "</div>"
      ],
      "text/plain": [
       "            AdjustedClose  DailyReturns\n",
       "Date                                   \n",
       "2017-02-01         60.518      0.060975\n",
       "2018-08-01         97.002      0.058916\n",
       "2018-12-26         76.191      0.070414\n",
       "2019-01-30         80.108      0.068335\n",
       "2020-03-02        147.380      0.093104\n",
       "2020-03-10        140.736      0.072021\n",
       "2020-03-13        137.101      0.119804\n",
       "2020-03-24        121.767      0.100331\n",
       "2020-04-06        129.456      0.087235\n",
       "2020-07-31        210.207      0.104690\n",
       "2020-10-12        246.536      0.063522"
      ]
     },
     "execution_count": 15,
     "metadata": {},
     "output_type": "execute_result"
    }
   ],
   "source": [
    "data1[data1.DailyReturns > (data1_sd*3)]"
   ]
  },
  {
   "cell_type": "code",
   "execution_count": 16,
   "id": "0550f265",
   "metadata": {},
   "outputs": [
    {
     "data": {
      "text/html": [
       "<div>\n",
       "<style scoped>\n",
       "    .dataframe tbody tr th:only-of-type {\n",
       "        vertical-align: middle;\n",
       "    }\n",
       "\n",
       "    .dataframe tbody tr th {\n",
       "        vertical-align: top;\n",
       "    }\n",
       "\n",
       "    .dataframe thead th {\n",
       "        text-align: right;\n",
       "    }\n",
       "</style>\n",
       "<table border=\"1\" class=\"dataframe\">\n",
       "  <thead>\n",
       "    <tr style=\"text-align: right;\">\n",
       "      <th></th>\n",
       "      <th>AdjustedClose</th>\n",
       "      <th>DailyReturns</th>\n",
       "    </tr>\n",
       "    <tr>\n",
       "      <th>Date</th>\n",
       "      <th></th>\n",
       "      <th></th>\n",
       "    </tr>\n",
       "  </thead>\n",
       "  <tbody>\n",
       "    <tr>\n",
       "      <th>2018-11-02</th>\n",
       "      <td>100.231</td>\n",
       "      <td>-0.066324</td>\n",
       "    </tr>\n",
       "    <tr>\n",
       "      <th>2019-01-03</th>\n",
       "      <td>68.930</td>\n",
       "      <td>-0.099602</td>\n",
       "    </tr>\n",
       "    <tr>\n",
       "      <th>2019-05-13</th>\n",
       "      <td>90.766</td>\n",
       "      <td>-0.058122</td>\n",
       "    </tr>\n",
       "    <tr>\n",
       "      <th>2020-02-27</th>\n",
       "      <td>134.906</td>\n",
       "      <td>-0.065373</td>\n",
       "    </tr>\n",
       "    <tr>\n",
       "      <th>2020-03-09</th>\n",
       "      <td>131.281</td>\n",
       "      <td>-0.079092</td>\n",
       "    </tr>\n",
       "    <tr>\n",
       "      <th>2020-03-12</th>\n",
       "      <td>122.433</td>\n",
       "      <td>-0.098750</td>\n",
       "    </tr>\n",
       "    <tr>\n",
       "      <th>2020-03-16</th>\n",
       "      <td>119.463</td>\n",
       "      <td>-0.128650</td>\n",
       "    </tr>\n",
       "    <tr>\n",
       "      <th>2020-03-20</th>\n",
       "      <td>113.066</td>\n",
       "      <td>-0.063488</td>\n",
       "    </tr>\n",
       "    <tr>\n",
       "      <th>2020-09-03</th>\n",
       "      <td>239.560</td>\n",
       "      <td>-0.080059</td>\n",
       "    </tr>\n",
       "    <tr>\n",
       "      <th>2020-09-08</th>\n",
       "      <td>223.586</td>\n",
       "      <td>-0.067296</td>\n",
       "    </tr>\n",
       "  </tbody>\n",
       "</table>\n",
       "</div>"
      ],
      "text/plain": [
       "            AdjustedClose  DailyReturns\n",
       "Date                                   \n",
       "2018-11-02        100.231     -0.066324\n",
       "2019-01-03         68.930     -0.099602\n",
       "2019-05-13         90.766     -0.058122\n",
       "2020-02-27        134.906     -0.065373\n",
       "2020-03-09        131.281     -0.079092\n",
       "2020-03-12        122.433     -0.098750\n",
       "2020-03-16        119.463     -0.128650\n",
       "2020-03-20        113.066     -0.063488\n",
       "2020-09-03        239.560     -0.080059\n",
       "2020-09-08        223.586     -0.067296"
      ]
     },
     "execution_count": 16,
     "metadata": {},
     "output_type": "execute_result"
    }
   ],
   "source": [
    "data1[data1.DailyReturns < (-data1_sd*3)]"
   ]
  },
  {
   "cell_type": "code",
   "execution_count": null,
   "id": "d0347547",
   "metadata": {},
   "outputs": [],
   "source": []
  }
 ],
 "metadata": {
  "kernelspec": {
   "display_name": "Python 3 (ipykernel)",
   "language": "python",
   "name": "python3"
  },
  "language_info": {
   "codemirror_mode": {
    "name": "ipython",
    "version": 3
   },
   "file_extension": ".py",
   "mimetype": "text/x-python",
   "name": "python",
   "nbconvert_exporter": "python",
   "pygments_lexer": "ipython3",
   "version": "3.11.5"
  }
 },
 "nbformat": 4,
 "nbformat_minor": 5
}
