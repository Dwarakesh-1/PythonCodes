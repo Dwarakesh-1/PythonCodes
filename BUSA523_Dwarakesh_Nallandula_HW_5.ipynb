{
 "cells": [
  {
   "cell_type": "code",
   "execution_count": 47,
   "id": "285c0fcd",
   "metadata": {},
   "outputs": [
    {
     "name": "stdout",
     "output_type": "stream",
     "text": [
      "[3, 13, 15, 9, 18, 4, 7, 11, 6, 16, 0, 5]\n",
      "[2, 3, 4, 16, 0, 5, 19, 7, 0, 14, 32, 11, 8, 11, 9, 17]\n"
     ]
    }
   ],
   "source": [
    "#Reading first.txt and second.txt and writing the remainder in third.txt\n",
    "with open(\"First.txt\", \"r\") as first:                 #using with will open and close at the end without providing close()\n",
    "    list1 = first.readline()\n",
    "    first_number = [int(i) for i in list1.split(\",\")] #converting the string values into integers\n",
    "    print(first_number)\n",
    "\n",
    "with open(\"Second.txt\", \"r\") as second:\n",
    "    second_number = []\n",
    "    list2 = second.readline()\n",
    "    while list2 != \"\":\n",
    "        x = int(list2.strip())\n",
    "        second_number.append(x)                        #converting the txt file into list\n",
    "        list2 = second.readline()\n",
    "    print(second_number)\n",
    "\n",
    "with open(\"Third.txt\", \"w\") as third:\n",
    "    for num1 in first_number:\n",
    "        print(f\"For the number {num1} we have:\",file = third)\n",
    "        for num2 in second_number:\n",
    "            if num2 != 0:\n",
    "                remainder = num1 % num2\n",
    "                print(remainder, file = third, end = \", \")\n",
    "            else:\n",
    "                print(\"Divide by 0 encountered\", file = third, end = \", \")\n",
    "        print(\"\\n\", file = third)"
   ]
  },
  {
   "cell_type": "code",
   "execution_count": null,
   "id": "7d29ca41",
   "metadata": {},
   "outputs": [],
   "source": []
  }
 ],
 "metadata": {
  "kernelspec": {
   "display_name": "Python 3 (ipykernel)",
   "language": "python",
   "name": "python3"
  },
  "language_info": {
   "codemirror_mode": {
    "name": "ipython",
    "version": 3
   },
   "file_extension": ".py",
   "mimetype": "text/x-python",
   "name": "python",
   "nbconvert_exporter": "python",
   "pygments_lexer": "ipython3",
   "version": "3.11.5"
  }
 },
 "nbformat": 4,
 "nbformat_minor": 5
}
