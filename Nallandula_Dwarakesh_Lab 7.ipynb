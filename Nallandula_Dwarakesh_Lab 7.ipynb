{
 "cells": [
  {
   "cell_type": "code",
   "execution_count": 12,
   "id": "7188dd8f",
   "metadata": {},
   "outputs": [
    {
     "name": "stdout",
     "output_type": "stream",
     "text": [
      "Enter the course number to find out the details: 123\n",
      "Provide the correct details!!!!\n",
      "Enter the course number to find out the details: CM241\n",
      "The details of the course CM241 is {'Room_Number': 1411, 'Instructor': 'Lee', 'Meeting_Time': '1:00 p.m.'}\n",
      "Enter the course number to find out the details: \n"
     ]
    }
   ],
   "source": [
    "course_details = {'CS101' : {'Room_Number' : 3004, 'Instructor' : 'Haynes', 'Meeting_Time' : '8:00 a.m.'},\n",
    "                 'CS102': {'Room_Number' : 4501, 'Instructor' : 'Alvarado', 'Meeting_Time' : '9:00 a.m.'},\n",
    "                 'CS103': {'Room_Number' : 6755, 'Instructor' : 'Rich', 'Meeting_Time' : '10:00 a.m.'},\n",
    "                 'NT110': {'Room_Number' : 1244, 'Instructor' : 'Burke', 'Meeting_Time' : '11:00 a.m.'},\n",
    "                 'CM241': {'Room_Number' : 1411, 'Instructor' : 'Lee', 'Meeting_Time' : '1:00 p.m.'}}\n",
    "user_input = input(\"Enter the course number to find out the details: \")\n",
    "\n",
    "while user_input != '':\n",
    "    if user_input in course_details:\n",
    "        print(f\"The details of the course {user_input} is {course_details[user_input]}\")\n",
    "        user_input = input(\"Enter the course number to find out the details: \")\n",
    "    else:\n",
    "        print(\"Provide the correct details!!!!\")\n",
    "        user_input = input(\"Enter the course number to find out the details: \")"
   ]
  },
  {
   "cell_type": "code",
   "execution_count": 22,
   "id": "a11cfcc4",
   "metadata": {},
   "outputs": [
    {
     "name": "stdout",
     "output_type": "stream",
     "text": [
      "Enter the course number to find out the details: CS102\n",
      "The details of the course CS102 is {'Room_Number': 4501, 'Instructor': 'Alvarado', 'Meeting_Time': '9:00 a.m.'}\n"
     ]
    }
   ],
   "source": [
    "def get_details(input1):\n",
    "    course_details = {'CS101' : {'Room_Number' : 3004, 'Instructor' : 'Haynes', 'Meeting_Time' : '8:00 a.m.'},\n",
    "                 'CS102': {'Room_Number' : 4501, 'Instructor' : 'Alvarado', 'Meeting_Time' : '9:00 a.m.'},\n",
    "                 'CS103': {'Room_Number' : 6755, 'Instructor' : 'Rich', 'Meeting_Time' : '10:00 a.m.'},\n",
    "                 'NT110': {'Room_Number' : 1244, 'Instructor' : 'Burke', 'Meeting_Time' : '11:00 a.m.'},\n",
    "                 'CM241': {'Room_Number' : 1411, 'Instructor' : 'Lee', 'Meeting_Time' : '1:00 p.m.'}}\n",
    "    if input1 in course_details:\n",
    "        return course_details[input1]\n",
    "    else:\n",
    "        return 0\n",
    "\n",
    "def main():\n",
    "    user_input = input(\"Enter the course number to find out the details: \")\n",
    "    x = get_details(user_input)\n",
    "    if x != 0:\n",
    "        print(f\"The details of the course {user_input} is {x}\")\n",
    "    else:\n",
    "        print(f\"This {user_input} course doesn't exist!!!!\")\n",
    "\n",
    "main()"
   ]
  },
  {
   "cell_type": "code",
   "execution_count": null,
   "id": "8b3b9c7c",
   "metadata": {},
   "outputs": [],
   "source": []
  }
 ],
 "metadata": {
  "kernelspec": {
   "display_name": "Python 3 (ipykernel)",
   "language": "python",
   "name": "python3"
  },
  "language_info": {
   "codemirror_mode": {
    "name": "ipython",
    "version": 3
   },
   "file_extension": ".py",
   "mimetype": "text/x-python",
   "name": "python",
   "nbconvert_exporter": "python",
   "pygments_lexer": "ipython3",
   "version": "3.11.5"
  }
 },
 "nbformat": 4,
 "nbformat_minor": 5
}
